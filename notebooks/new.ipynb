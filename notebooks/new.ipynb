{
 "cells": [
  {
   "cell_type": "code",
   "execution_count": 4,
   "metadata": {},
   "outputs": [],
   "source": [
    "import numpy as np\n",
    "import requests\n",
    "import json\n",
    "import xmltodict\n",
    "import re \n",
    "import string \n",
    "table = str.maketrans('', '', string.ascii_lowercase)"
   ]
  },
  {
   "cell_type": "code",
   "execution_count": 5,
   "metadata": {},
   "outputs": [],
   "source": [
    "def Car_info(text):\n",
    "    vehicle_reg_no = text.strip() #insert the correct registration number\n",
    "    username = \"meemo1\" #insert your user name\n",
    "    url = \"http://www.regcheck.org.uk/api/reg.asmx/CheckIndia?RegistrationNumber=\" + vehicle_reg_no + \"&username=\"+username\n",
    "    url=url.replace(\" \",\"%20\")\n",
    "    r = requests.get(url)\n",
    "    n = xmltodict.parse(r.content)\n",
    "    k = json.dumps(n)\n",
    "    df = json.loads(k)\n",
    "    l=df[\"Vehicle\"][\"vehicleJson\"]\n",
    "    p=json.loads(l)\n",
    "    s=\"Your car's details are:\\n\"+\"Owner name: \"+str(p['Owner'])+\"\\n\"+\"Car Company: \"+str(p['CarMake']['CurrentTextValue'])+\"\\n\"+\"Car Model: \"+str(p['CarModel']['CurrentTextValue'])+\"\\n\"+\"Fuel Type: \"+str(p['FuelType']['CurrentTextValue'])+\"\\n\"+\"Registration Year: \"+str(p['RegistrationYear'])+\"\\n\"+\"Insurance: \"+str(p['Insurance'])+\"\\n\"+\"Vehicle ID: \"+str(p['VechileIdentificationNumber'])+\"\\n\"+\"Engine No.: \"+str(p['EngineNumber'])+\"\\n\"+\"Location RTO: \"+str(p['Location'])\n",
    "    print(s)"
   ]
  },
  {
   "cell_type": "code",
   "execution_count": 6,
   "metadata": {},
   "outputs": [
    {
     "ename": "ExpatError",
     "evalue": "syntax error: line 1, column 0",
     "output_type": "error",
     "traceback": [
      "\u001b[1;31m---------------------------------------------------------------------------\u001b[0m",
      "\u001b[1;31mExpatError\u001b[0m                                Traceback (most recent call last)",
      "\u001b[1;32m<ipython-input-6-0e997e4a6359>\u001b[0m in \u001b[0;36m<module>\u001b[1;34m\u001b[0m\n\u001b[1;32m----> 1\u001b[1;33m \u001b[0mCar_info\u001b[0m\u001b[1;33m(\u001b[0m\u001b[1;34m\"UP32CB0211\"\u001b[0m\u001b[1;33m)\u001b[0m\u001b[1;33m\u001b[0m\u001b[1;33m\u001b[0m\u001b[0m\n\u001b[0m",
      "\u001b[1;32m<ipython-input-5-c71c129f5c13>\u001b[0m in \u001b[0;36mCar_info\u001b[1;34m(text)\u001b[0m\n\u001b[0;32m      5\u001b[0m     \u001b[0murl\u001b[0m\u001b[1;33m=\u001b[0m\u001b[0murl\u001b[0m\u001b[1;33m.\u001b[0m\u001b[0mreplace\u001b[0m\u001b[1;33m(\u001b[0m\u001b[1;34m\" \"\u001b[0m\u001b[1;33m,\u001b[0m\u001b[1;34m\"%20\"\u001b[0m\u001b[1;33m)\u001b[0m\u001b[1;33m\u001b[0m\u001b[1;33m\u001b[0m\u001b[0m\n\u001b[0;32m      6\u001b[0m     \u001b[0mr\u001b[0m \u001b[1;33m=\u001b[0m \u001b[0mrequests\u001b[0m\u001b[1;33m.\u001b[0m\u001b[0mget\u001b[0m\u001b[1;33m(\u001b[0m\u001b[0murl\u001b[0m\u001b[1;33m)\u001b[0m\u001b[1;33m\u001b[0m\u001b[1;33m\u001b[0m\u001b[0m\n\u001b[1;32m----> 7\u001b[1;33m     \u001b[0mn\u001b[0m \u001b[1;33m=\u001b[0m \u001b[0mxmltodict\u001b[0m\u001b[1;33m.\u001b[0m\u001b[0mparse\u001b[0m\u001b[1;33m(\u001b[0m\u001b[0mr\u001b[0m\u001b[1;33m.\u001b[0m\u001b[0mcontent\u001b[0m\u001b[1;33m)\u001b[0m\u001b[1;33m\u001b[0m\u001b[1;33m\u001b[0m\u001b[0m\n\u001b[0m\u001b[0;32m      8\u001b[0m     \u001b[0mk\u001b[0m \u001b[1;33m=\u001b[0m \u001b[0mjson\u001b[0m\u001b[1;33m.\u001b[0m\u001b[0mdumps\u001b[0m\u001b[1;33m(\u001b[0m\u001b[0mn\u001b[0m\u001b[1;33m)\u001b[0m\u001b[1;33m\u001b[0m\u001b[1;33m\u001b[0m\u001b[0m\n\u001b[0;32m      9\u001b[0m     \u001b[0mdf\u001b[0m \u001b[1;33m=\u001b[0m \u001b[0mjson\u001b[0m\u001b[1;33m.\u001b[0m\u001b[0mloads\u001b[0m\u001b[1;33m(\u001b[0m\u001b[0mk\u001b[0m\u001b[1;33m)\u001b[0m\u001b[1;33m\u001b[0m\u001b[1;33m\u001b[0m\u001b[0m\n",
      "\u001b[1;32mc:\\USERS\\SRIVA\\DESKTOP\\WORKSPACE\\AUTOMATIC_NUMBER_PLATE_DETECTOR\\ENV\\lib\\site-packages\\xmltodict.py\u001b[0m in \u001b[0;36mparse\u001b[1;34m(xml_input, encoding, expat, process_namespaces, namespace_separator, disable_entities, process_comments, **kwargs)\u001b[0m\n\u001b[0;32m    376\u001b[0m         \u001b[0mparser\u001b[0m\u001b[1;33m.\u001b[0m\u001b[0mParse\u001b[0m\u001b[1;33m(\u001b[0m\u001b[1;34mb''\u001b[0m\u001b[1;33m,\u001b[0m\u001b[1;32mTrue\u001b[0m\u001b[1;33m)\u001b[0m\u001b[1;33m\u001b[0m\u001b[1;33m\u001b[0m\u001b[0m\n\u001b[0;32m    377\u001b[0m     \u001b[1;32melse\u001b[0m\u001b[1;33m:\u001b[0m\u001b[1;33m\u001b[0m\u001b[1;33m\u001b[0m\u001b[0m\n\u001b[1;32m--> 378\u001b[1;33m         \u001b[0mparser\u001b[0m\u001b[1;33m.\u001b[0m\u001b[0mParse\u001b[0m\u001b[1;33m(\u001b[0m\u001b[0mxml_input\u001b[0m\u001b[1;33m,\u001b[0m \u001b[1;32mTrue\u001b[0m\u001b[1;33m)\u001b[0m\u001b[1;33m\u001b[0m\u001b[1;33m\u001b[0m\u001b[0m\n\u001b[0m\u001b[0;32m    379\u001b[0m     \u001b[1;32mreturn\u001b[0m \u001b[0mhandler\u001b[0m\u001b[1;33m.\u001b[0m\u001b[0mitem\u001b[0m\u001b[1;33m\u001b[0m\u001b[1;33m\u001b[0m\u001b[0m\n\u001b[0;32m    380\u001b[0m \u001b[1;33m\u001b[0m\u001b[0m\n",
      "\u001b[1;31mExpatError\u001b[0m: syntax error: line 1, column 0"
     ]
    }
   ],
   "source": [
    "Car_info(\"UP32CB0211\")"
   ]
  },
  {
   "cell_type": "code",
   "execution_count": 4,
   "metadata": {},
   "outputs": [],
   "source": [
    "import streamlit as st\n",
    "import os\n",
    "from PIL import Image\n",
    "import shutil\n",
    "import requests\n",
    "import json\n",
    "import xmltodict\n",
    "import glob\n",
    "import re\n",
    "import cv2\n",
    "import easyocr\n",
    "import imutils"
   ]
  },
  {
   "cell_type": "code",
   "execution_count": 11,
   "metadata": {},
   "outputs": [
    {
     "name": "stderr",
     "output_type": "stream",
     "text": [
      "2022-12-23 20:26:59.412 WARNING easyocr.easyocr: CUDA not available - defaulting to CPU. Note: This module is much faster with a GPU.\n"
     ]
    },
    {
     "name": "stdout",
     "output_type": "stream",
     "text": [
      "[([[0, 0], [235, 0], [235, 54], [0, 54]], '4BZOBc6 175', 0.1848509542422097)]\n"
     ]
    }
   ],
   "source": [
    "image_file_path = '../exp/crops/Number_Plate/video.jpg'\n",
    "image = cv2.imread(image_file_path)\n",
    "image = imutils.resize(image, width=300 )\n",
    "gray_image = cv2.cvtColor(image, cv2.COLOR_BGR2GRAY)\n",
    "gray_image = cv2.bilateralFilter(gray_image, 11, 17, 17) \n",
    "edged = cv2.Canny(gray_image, 30, 200) \n",
    "cnts,new = cv2.findContours(edged.copy(), cv2.RETR_LIST, cv2.CHAIN_APPROX_SIMPLE)\n",
    "cnts = sorted(cnts, key = cv2.contourArea, reverse = True) [:30]\n",
    "screenCnt = None\n",
    "\n",
    "os.makedirs('./final_plate/',exist_ok=True)\n",
    "i=7\n",
    "for c in cnts:\n",
    "    perimeter = cv2.arcLength(c, True)\n",
    "    approx = cv2.approxPolyDP(c, 0.018 * perimeter, True)\n",
    "    if len(approx) == 4: \n",
    "        screenCnt = approx\n",
    "        x,y,w,h = cv2.boundingRect(c) \n",
    "        new_img=image[y:y+h,x:x+w]\n",
    "        print(x,y,w,h)\n",
    "        os.chdir('./final_plate/')\n",
    "        cv2.imwrite(str(i)+'.png',new_img)\n",
    "        os.chdir('../')\n",
    "        i+=1\n",
    "        break\n",
    "\n",
    "licensePlate1 = image[y:y+h, x:x + w]\n",
    "licensePlate2=image[y:y + h, x+15:x + w]\n",
    "\n",
    "if len(os.listdir('./final_plate'))==0:\n",
    "    os.chdir('./final_plate')\n",
    "    cv2.imwrite('cropped1.png',licensePlate1)\n",
    "    cv2.imwrite('cropped2.png',licensePlate2)\n",
    "    os.chdir(\"../\")\n",
    "else:\n",
    "    files = glob.glob('./fimal_plate')\n",
    "    for f in files:\n",
    "            os.remove(f)\n",
    "    os.chdir('./final_plate')\n",
    "    cv2.imwrite('cropped1.png',licensePlate1)\n",
    "    cv2.imwrite('cropped2.png',licensePlate2)\n",
    "    os.chdir(\"../\")\n",
    "\n",
    "\n",
    "reader = easyocr.Reader(['en'])\n",
    "img1=os.path.join('./final_plate',\"cropped1.png\")\n",
    "img2=os.path.join('./final_plate',\"cropped2.png\")\n",
    "\n",
    "\n",
    "image1 = cv2.imread(img1)\n",
    "\n",
    "img1_res1= reader.readtext(image1)\n",
    "print(img1_res1)\n",
    "\n",
    "image2 = cv2.imread(img2)\n",
    "img2_res2= reader.readtext(image2)\n",
    "\n",
    "if len(img2_res2)>1:\n",
    "    res1=str(\"\".join(re.split(\"[^a-zA-Z0-9]*\", img1_res1[1][1]))).upper()\n",
    "    res2=str(\"\".join(re.split(\"[^a-zA-Z0-9]*\", img2_res2[1][1]))).upper()\n",
    "    res=[res1,res2]\n",
    "    res\n",
    "else:\n",
    "    res1=str(\"\".join(re.split(\"[^a-zA-Z0-9]*\", img1_res1[0][1]))).upper()\n",
    "    res2=str(\"\".join(re.split(\"[^a-zA-Z0-9]*\", img2_res2[0][1]))).upper()\n",
    "    res=[res1,res2]\n",
    "    res\n",
    "\n",
    "digit2=res[1][-4:]\n",
    "to_remove_chars = {\"O\": \"0\", \"I\": \"1\", \"G\":\"6\",\"S\": \"6\", \"Z\": \"7\",\"4\":\"A\"}\n",
    "for char in to_remove_chars.keys():\n",
    "    digit2 = digit2.replace(char, to_remove_chars[char])\n",
    "\n",
    "\n",
    "st1=res[1][:2]\n",
    "to_remove_chars = {\"1\": \"I\", \"5\": \"S\", \"6\":\"G\", \"7\": \"Z\", \"0\": \"O\",\"4\":\"A\"}\n",
    "for char in to_remove_chars.keys():\n",
    "    st1 = st1.replace(char, to_remove_chars[char])\n",
    "\n",
    "\n",
    "digit1=res[1][2:4]\n",
    "to_remove_chars = {\"I\": \"1\",\"G\":\"6\", \"S\": \"5\", \"Z\": \"7\", \"O\": \"0\",\"A\":\"4\"}\n",
    "for char in to_remove_chars.keys():\n",
    "    digit1 = digit1.replace(char, to_remove_chars[char])\n",
    "\n",
    "\n",
    "st2=res[1][4:6]\n",
    "to_remove_chars = {\"1\": \"I\", \"6\":\"G\", \"5\": \"S\", \"7\": \"Z\", \"0\": \"O\",\"4\":\"A\"}\n",
    "for char in to_remove_chars.keys():\n",
    "    st2 = st2.replace(char, to_remove_chars[char])\n",
    "\n",
    "\n",
    "vehicle_reg_no=st1+digit1+st2+digit2"
   ]
  },
  {
   "cell_type": "code",
   "execution_count": 12,
   "metadata": {},
   "outputs": [
    {
     "data": {
      "text/plain": [
       "'BZ0BCG6177'"
      ]
     },
     "execution_count": 12,
     "metadata": {},
     "output_type": "execute_result"
    }
   ],
   "source": [
    "vehicle_reg_no"
   ]
  },
  {
   "cell_type": "code",
   "execution_count": null,
   "metadata": {},
   "outputs": [],
   "source": []
  }
 ],
 "metadata": {
  "kernelspec": {
   "display_name": "Python 3",
   "language": "python",
   "name": "python3"
  },
  "language_info": {
   "codemirror_mode": {
    "name": "ipython",
    "version": 3
   },
   "file_extension": ".py",
   "mimetype": "text/x-python",
   "name": "python",
   "nbconvert_exporter": "python",
   "pygments_lexer": "ipython3",
   "version": "3.6.13"
  },
  "orig_nbformat": 4,
  "vscode": {
   "interpreter": {
    "hash": "094f8cf87ed5172079af96a20b35605bce9724e729af8d05c7db0a90c75d6d67"
   }
  }
 },
 "nbformat": 4,
 "nbformat_minor": 2
}
